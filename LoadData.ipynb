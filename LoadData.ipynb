{
 "metadata": {
  "language_info": {
   "codemirror_mode": {
    "name": "ipython",
    "version": 3
   },
   "file_extension": ".py",
   "mimetype": "text/x-python",
   "name": "python",
   "nbconvert_exporter": "python",
   "pygments_lexer": "ipython3",
   "version": "3.8.3-final"
  },
  "orig_nbformat": 2,
  "kernelspec": {
   "name": "python3",
   "display_name": "Python 3",
   "language": "python"
  }
 },
 "nbformat": 4,
 "nbformat_minor": 2,
 "cells": [
  {
   "cell_type": "code",
   "execution_count": 1,
   "metadata": {},
   "outputs": [],
   "source": [
    "import os\n",
    "import random\n",
    "import cv2\n",
    "import numpy as np"
   ]
  },
  {
   "cell_type": "code",
   "execution_count": 2,
   "metadata": {},
   "outputs": [],
   "source": [
    "class SampleImages:\n",
    "    def __init__(self,trueText, filePath):\n",
    "        self.trueText = trueText\n",
    "        self.filePath = filePath"
   ]
  },
  {
   "cell_type": "code",
   "execution_count": 3,
   "metadata": {},
   "outputs": [],
   "source": [
    "class BatchImages:\n",
    "    def __init__(self,trueText, image):\n",
    "        self.image = np.stack(image,axis = 0)\n",
    "        self.trueText = trueText"
   ]
  },
  {
   "cell_type": "code",
   "execution_count": null,
   "metadata": {},
   "outputs": [],
   "source": [
    "class Loader:\n",
    "    def __init__(self, filePath, batchSize, imgSize, maxTextLen):\n",
    "\n",
    "        assert filePath[-1] == '/'\n",
    "\n",
    "        self.dataAugmentation = False\n",
    "        self.currIdx = 0\n",
    "        self.batchSize = batchSize\n",
    "        self.imgSize = imgSize\n",
    "        self.samples = []\n",
    "\n",
    "        f = open(filePath + 'words.txt')\n",
    "        chars = set()\n",
    "        badImages = []\n",
    "        # badImagesReference = ['a01-117-05-02.png', 'r06-022-03-05.png']\n",
    "\n",
    "        for line in f:\n",
    "            if not line or line[0] == '#'\n",
    "                continue\n",
    "\n",
    "            lineSplit = line.strip().split(' ')\n",
    "\n",
    "            assert len(lineSplit) >= 9\n",
    "\n",
    "            fileNameSplit = lineSplit[0].split('-')\n",
    "            fileName = filePath + 'words/' + fileNameSplit[0] + '/' + fileNameSplit[0] + '-' + fileNameSplit[1] + '/' + lineSplit[0] + '.png'\n",
    "\n",
    "            trueText = self.labelTruncate(' '.join(lineSplit[8:]), maxTextLen)\n",
    "\n",
    "            chars = chars.union(set(list(trueText)))\n",
    "\n",
    "            if not os.path.getsize(fileName):\n",
    "                badImages.append(lineSplit[0] + '.png')\n",
    "                continue\n",
    "\n",
    "            self.samples.append(SampleImages(trueText, fileName))\n",
    "        \n",
    "        # if set(badImages) != set(badImagesReference)\n",
    "        #     print(\"Warning, damaged images found:\", badImages)\n",
    "        #     print(\"Damaged images expected:\", badImagesReference)\n",
    "        \n",
    "        indexSplit = int(0.95 * len(self.samples))\n",
    "        self.trainSampleImages = samples[:indexSplit] \n",
    "        self.validationSampleImages = samples[indexSplit:]\n",
    "\n",
    "        self.trainWords = [x.trueText for x in self.trainSampleImages]\n",
    "        self.validationWords = [x.trueText for x in self.ValidationSampleImages]\n",
    "\n",
    "        self.samplesPerEpoch = 18000\n",
    "\n",
    "        self.trainSet()\n",
    "        self.charList = sorted(list(chars))\n",
    "\n",
    "        def labelTruncate(self, text, maxTextLen):\n",
    "            cost = 0\n",
    "\n",
    "            for i in range(len(text)):\n",
    "\n",
    "                if i != 0 and text[i] == text[i-1]:\n",
    "                    cost += 2\n",
    "\n",
    "                else:\n",
    "                    cost += 1\n",
    "\n",
    "                if cost > maxTextLen:\n",
    "                    return text[:i]\n",
    "            return text    "
   ]
  },
  {
   "cell_type": "code",
   "execution_count": null,
   "metadata": {},
   "outputs": [],
   "source": []
  },
  {
   "cell_type": "code",
   "execution_count": null,
   "metadata": {},
   "outputs": [],
   "source": []
  }
 ]
}